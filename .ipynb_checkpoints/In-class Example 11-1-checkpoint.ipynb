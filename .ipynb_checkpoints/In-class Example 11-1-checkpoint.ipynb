{
 "cells": [
  {
   "cell_type": "code",
   "execution_count": 116,
   "id": "263ceb0b-d470-4f19-bd8e-87a683f07e2c",
   "metadata": {},
   "outputs": [
    {
     "data": {
      "text/plain": [
       "'1.26.4'"
      ]
     },
     "execution_count": 116,
     "metadata": {},
     "output_type": "execute_result"
    }
   ],
   "source": [
    "import numpy\n",
    "numpy.version.version"
   ]
  },
  {
   "cell_type": "code",
   "execution_count": 117,
   "id": "558cbae9-7aef-4aa0-8db1-7c32360b4694",
   "metadata": {},
   "outputs": [
    {
     "data": {
      "text/plain": [
       "'2.2.2'"
      ]
     },
     "execution_count": 117,
     "metadata": {},
     "output_type": "execute_result"
    }
   ],
   "source": [
    "import pandas as pd\n",
    "pd.__version__"
   ]
  },
  {
   "cell_type": "code",
   "execution_count": 120,
   "id": "98f72221-78d2-40bf-ac38-6f652efd5b4d",
   "metadata": {},
   "outputs": [
    {
     "data": {
      "text/plain": [
       "'3.9.0'"
      ]
     },
     "execution_count": 120,
     "metadata": {},
     "output_type": "execute_result"
    }
   ],
   "source": [
    "import matplotlib\n",
    "matplotlib.__version__"
   ]
  },
  {
   "cell_type": "code",
   "execution_count": null,
   "id": "f65381cc-7b32-4509-9a82-7a613ad7d1ff",
   "metadata": {},
   "outputs": [],
   "source": []
  },
  {
   "cell_type": "code",
   "execution_count": null,
   "id": "817141e8-e840-4d2a-a2d9-e08da782ec2f",
   "metadata": {},
   "outputs": [],
   "source": [
    "# Source for fire truck info: https://www.piercemfg.com/pierce/blog/tanker-fire-truck-specs\n",
    "\n",
    "class FireTruck:\n",
    "    \n",
    "    def __init__(self, name, color, capacity, pump):     #*args\n",
    "        self.name = name\n",
    "        self.color = color\n",
    "        self.capacity = capacity\n",
    "        self.pump = pump\n",
    "        # self.crew = args\n",
    "        \n",
    "    def call(self):\n",
    "        return f\"Get {self} to the house on fire!\"  # Whoops, this isn't going to work quite right!\n",
    "        # return f\"Get {self.name} to the house on fire!\"\n",
    "\n",
    "    # def assign_crew(self, captain, second, **crew):\n",
    "    #     self.captain = captain\n",
    "    #     self.second = second\n",
    "    #     self.crew = crew"
   ]
  },
  {
   "cell_type": "code",
   "execution_count": null,
   "id": "91f56782-a9e4-4f8d-95c8-240b94632253",
   "metadata": {},
   "outputs": [],
   "source": [
    "bertha = FireTruck('Big Bertha', 'cherry red', '3,000 gal', '2,000 gpm')  #, 'Greg', 'Sam', 'Kosal')"
   ]
  },
  {
   "cell_type": "code",
   "execution_count": null,
   "id": "6a44eb8c-1b7b-47c5-aa30-a789787710e2",
   "metadata": {},
   "outputs": [],
   "source": [
    "print(bertha.call())"
   ]
  },
  {
   "cell_type": "code",
   "execution_count": null,
   "id": "7bd31f71-a96a-461f-aafe-e14ccf07d639",
   "metadata": {},
   "outputs": [],
   "source": [
    "bertha.assign_crew('Zikomo', 'Tom', crew1='Taylor', crew2='Pierre')"
   ]
  },
  {
   "cell_type": "code",
   "execution_count": null,
   "id": "a9fa28dd-eb5a-4d5a-891b-9419caa47ef1",
   "metadata": {},
   "outputs": [],
   "source": []
  }
 ],
 "metadata": {
  "kernelspec": {
   "display_name": "Python 3 (ipykernel)",
   "language": "python",
   "name": "python3"
  },
  "language_info": {
   "codemirror_mode": {
    "name": "ipython",
    "version": 3
   },
   "file_extension": ".py",
   "mimetype": "text/x-python",
   "name": "python",
   "nbconvert_exporter": "python",
   "pygments_lexer": "ipython3",
   "version": "3.12.3"
  }
 },
 "nbformat": 4,
 "nbformat_minor": 5
}
